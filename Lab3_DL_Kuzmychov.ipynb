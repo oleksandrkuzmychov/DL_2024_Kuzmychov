{
  "nbformat": 4,
  "nbformat_minor": 0,
  "metadata": {
    "colab": {
      "provenance": [],
      "authorship_tag": "ABX9TyPO4wGbG32vvbxtKVYSGm63",
      "include_colab_link": true
    },
    "kernelspec": {
      "name": "python3",
      "display_name": "Python 3"
    },
    "language_info": {
      "name": "python"
    }
  },
  "cells": [
    {
      "cell_type": "markdown",
      "metadata": {
        "id": "view-in-github",
        "colab_type": "text"
      },
      "source": [
        "<a href=\"https://colab.research.google.com/github/oleksandrkuzmychov/DL_2024_Kuzmychov/blob/main/Lab3_DL_Kuzmychov.ipynb\" target=\"_parent\"><img src=\"https://colab.research.google.com/assets/colab-badge.svg\" alt=\"Open In Colab\"/></a>"
      ]
    },
    {
      "cell_type": "code",
      "source": [
        "!pip install torch"
      ],
      "metadata": {
        "colab": {
          "base_uri": "https://localhost:8080/"
        },
        "id": "P8EZjuwaiI6p",
        "outputId": "033f5ac1-f16e-4224-ccc5-b9f25555608a"
      },
      "execution_count": 1,
      "outputs": [
        {
          "output_type": "stream",
          "name": "stdout",
          "text": [
            "Requirement already satisfied: torch in /usr/local/lib/python3.10/dist-packages (2.4.1+cu121)\n",
            "Requirement already satisfied: filelock in /usr/local/lib/python3.10/dist-packages (from torch) (3.16.0)\n",
            "Requirement already satisfied: typing-extensions>=4.8.0 in /usr/local/lib/python3.10/dist-packages (from torch) (4.12.2)\n",
            "Requirement already satisfied: sympy in /usr/local/lib/python3.10/dist-packages (from torch) (1.13.2)\n",
            "Requirement already satisfied: networkx in /usr/local/lib/python3.10/dist-packages (from torch) (3.3)\n",
            "Requirement already satisfied: jinja2 in /usr/local/lib/python3.10/dist-packages (from torch) (3.1.4)\n",
            "Requirement already satisfied: fsspec in /usr/local/lib/python3.10/dist-packages (from torch) (2024.6.1)\n",
            "Requirement already satisfied: MarkupSafe>=2.0 in /usr/local/lib/python3.10/dist-packages (from jinja2->torch) (2.1.5)\n",
            "Requirement already satisfied: mpmath<1.4,>=1.1.0 in /usr/local/lib/python3.10/dist-packages (from sympy->torch) (1.3.0)\n"
          ]
        }
      ]
    },
    {
      "cell_type": "code",
      "source": [
        "import numpy as np\n",
        "import torch\n",
        "import torch.nn as nn\n",
        "import torch.nn.functional as F\n",
        "import torch.optim as optim\n",
        "from torch.utils.data import Dataset, DataLoader"
      ],
      "metadata": {
        "id": "JLDWqIUeurMK"
      },
      "execution_count": 17,
      "outputs": []
    },
    {
      "cell_type": "code",
      "source": [
        "import seaborn as sns\n",
        "import matplotlib.pyplot as plt"
      ],
      "metadata": {
        "id": "WWLtG6zDveYV"
      },
      "execution_count": 18,
      "outputs": []
    },
    {
      "cell_type": "code",
      "source": [
        "from sklearn.datasets import load_digits\n",
        "from sklearn.model_selection import train_test_split\n",
        "from sklearn.preprocessing import StandardScaler"
      ],
      "metadata": {
        "id": "p40l_QXDgQWw"
      },
      "execution_count": 19,
      "outputs": []
    },
    {
      "cell_type": "markdown",
      "source": [
        "## **Датасет**"
      ],
      "metadata": {
        "id": "ZwCZ9B5WidBE"
      }
    },
    {
      "cell_type": "code",
      "source": [
        "ds = load_digits()\n",
        "x = ds.data\n",
        "y = ds.target\n",
        "\n",
        "print(x.shape, y.shape)"
      ],
      "metadata": {
        "colab": {
          "base_uri": "https://localhost:8080/"
        },
        "id": "d2TmwGvWijN4",
        "outputId": "c2a228fa-c4b4-4ee0-82b7-40147bee9234"
      },
      "execution_count": 20,
      "outputs": [
        {
          "output_type": "stream",
          "name": "stdout",
          "text": [
            "(1797, 64) (1797,)\n"
          ]
        }
      ]
    },
    {
      "cell_type": "code",
      "source": [
        "plt.gray()\n",
        "plt.matshow(ds.images[0])\n",
        "plt.show()"
      ],
      "metadata": {
        "colab": {
          "base_uri": "https://localhost:8080/",
          "height": 454
        },
        "id": "I4FY5Jfhr--8",
        "outputId": "730653bb-bb95-46d7-d2a5-eb82b54a5fd6"
      },
      "execution_count": 21,
      "outputs": [
        {
          "output_type": "display_data",
          "data": {
            "text/plain": [
              "<Figure size 640x480 with 0 Axes>"
            ]
          },
          "metadata": {}
        },
        {
          "output_type": "display_data",
          "data": {
            "text/plain": [
              "<Figure size 480x480 with 1 Axes>"
            ],
            "image/png": "[encoded data removed]"
          },
          "metadata": {}
        }
      ]
    },
    {
      "cell_type": "code",
      "source": [
        "# ds"
      ],
      "metadata": {
        "id": "CUBwP82Qv3_N"
      },
      "execution_count": 22,
      "outputs": []
    },
    {
      "cell_type": "code",
      "source": [
        "class DigitsDataset(Dataset):\n",
        "    def __init__(self, data, targets):\n",
        "        self.data = torch.tensor(data, dtype=torch.float32)\n",
        "        self.targets = torch.tensor(targets, dtype=torch.long)\n",
        "\n",
        "    def __len__(self):\n",
        "        return len(self.data)\n",
        "\n",
        "    def __getitem__(self, idx):\n",
        "        return self.data[idx], self.targets[idx]"
      ],
      "metadata": {
        "id": "36094ilnx6cq"
      },
      "execution_count": 23,
      "outputs": []
    },
    {
      "cell_type": "code",
      "source": [
        "x_train, x_test, y_train, y_test = train_test_split(x, y, test_size=0.3, random_state=42)\n",
        "\n",
        "scaler = StandardScaler()\n",
        "x_train = scaler.fit_transform(x_train)\n",
        "x_test = scaler.transform(x_test)\n",
        "\n",
        "train_dataset = DigitsDataset(x_train, y_train)\n",
        "test_dataset = DigitsDataset(x_test, y_test)\n",
        "\n",
        "train_loader = DataLoader(train_dataset, batch_size=32, shuffle=True)\n",
        "test_loader = DataLoader(test_dataset, batch_size=32, shuffle=False)"
      ],
      "metadata": {
        "id": "TKm1jEXwxcs9"
      },
      "execution_count": 37,
      "outputs": []
    },
    {
      "cell_type": "markdown",
      "source": [
        "## **MLP**"
      ],
      "metadata": {
        "id": "TMWznK3pzi1H"
      }
    },
    {
      "cell_type": "code",
      "source": [
        "class MLP(nn.Module):\n",
        "    def __init__(self, input_size, hidden_layers, output_size, activations):\n",
        "        super(MLP, self).__init__()\n",
        "        layers = []\n",
        "        in_features = input_size\n",
        "\n",
        "        for hidden_size, activation in zip(hidden_layers, activations):\n",
        "            layers.append(nn.Linear(in_features, hidden_size))\n",
        "            layers.append(activation)\n",
        "            in_features = hidden_size\n",
        "\n",
        "        layers.append(nn.Linear(in_features, output_size))\n",
        "        self.network = nn.Sequential(*layers)\n",
        "\n",
        "    def forward(self, x):\n",
        "        return self.network(x)"
      ],
      "metadata": {
        "id": "chcKv3LGzk7c"
      },
      "execution_count": 38,
      "outputs": []
    },
    {
      "cell_type": "markdown",
      "source": [
        "## **Training and Testing**"
      ],
      "metadata": {
        "id": "sGGyB0nayoLA"
      }
    },
    {
      "cell_type": "code",
      "source": [
        "input_size = x_train.shape[1]\n",
        "hidden_layers = [64, 32]\n",
        "output_v = len(np.unique(y))\n",
        "activations = [nn.ReLU(), nn.ReLU()]\n",
        "learning_rate = 0.001\n",
        "\n",
        "model = MLP(input_size, hidden_layers, output_v, activations)\n",
        "criterion = nn.CrossEntropyLoss()\n",
        "optimizer = optim.SGD(model.parameters(), lr=learning_rate, momentum=0.9)"
      ],
      "metadata": {
        "id": "Syt4GBBky0O-"
      },
      "execution_count": 39,
      "outputs": []
    },
    {
      "cell_type": "code",
      "source": [
        "n_epochs = 50\n",
        "loss_change = []\n",
        "\n",
        "model.train()\n",
        "for epoch in range(n_epochs):\n",
        "    loss_show = 0.0\n",
        "    for inputs, labels in train_loader:\n",
        "        optimizer.zero_grad()\n",
        "\n",
        "        outputs = model(inputs)\n",
        "        loss = criterion(outputs, labels)\n",
        "\n",
        "        loss.backward()\n",
        "        optimizer.step()\n",
        "\n",
        "        loss_show += loss.item()\n",
        "        loss_change.append(loss.item())\n",
        "    print(f'Epoch [{epoch+1}], Loss: {loss_show/len(train_loader):.4f}')\n",
        "\n",
        "model.eval()\n",
        "correct = 0\n",
        "total = 0\n",
        "with torch.no_grad():\n",
        "    for inputs, labels in test_loader:\n",
        "        outputs = model(inputs)\n",
        "        _, predicted = torch.max(outputs, 1)\n",
        "        total += labels.size(0)\n",
        "        correct += (predicted == labels).sum().item()"
      ],
      "metadata": {
        "colab": {
          "base_uri": "https://localhost:8080/"
        },
        "id": "4F7793_iyjiu",
        "outputId": "c2840121-9e29-4be0-e5f8-2eaea500f7b5"
      },
      "execution_count": 41,
      "outputs": [
        {
          "output_type": "stream",
          "name": "stdout",
          "text": [
            "Epoch [1], Loss: 0.8334\n",
            "Epoch [2], Loss: 0.7744\n",
            "Epoch [3], Loss: 0.7093\n",
            "Epoch [4], Loss: 0.6574\n",
            "Epoch [5], Loss: 0.6140\n",
            "Epoch [6], Loss: 0.5714\n",
            "Epoch [7], Loss: 0.5297\n",
            "Epoch [8], Loss: 0.5014\n",
            "Epoch [9], Loss: 0.4666\n",
            "Epoch [10], Loss: 0.4467\n",
            "Epoch [11], Loss: 0.4159\n",
            "Epoch [12], Loss: 0.3974\n",
            "Epoch [13], Loss: 0.3684\n",
            "Epoch [14], Loss: 0.3516\n",
            "Epoch [15], Loss: 0.3326\n",
            "Epoch [16], Loss: 0.3140\n",
            "Epoch [17], Loss: 0.2972\n",
            "Epoch [18], Loss: 0.2876\n",
            "Epoch [19], Loss: 0.2708\n",
            "Epoch [20], Loss: 0.2595\n",
            "Epoch [21], Loss: 0.2504\n",
            "Epoch [22], Loss: 0.2388\n",
            "Epoch [23], Loss: 0.2290\n",
            "Epoch [24], Loss: 0.2165\n",
            "Epoch [25], Loss: 0.2083\n",
            "Epoch [26], Loss: 0.2016\n",
            "Epoch [27], Loss: 0.1928\n",
            "Epoch [28], Loss: 0.1864\n",
            "Epoch [29], Loss: 0.1768\n",
            "Epoch [30], Loss: 0.1698\n",
            "Epoch [31], Loss: 0.1654\n",
            "Epoch [32], Loss: 0.1575\n",
            "Epoch [33], Loss: 0.1537\n",
            "Epoch [34], Loss: 0.1494\n",
            "Epoch [35], Loss: 0.1429\n",
            "Epoch [36], Loss: 0.1377\n",
            "Epoch [37], Loss: 0.1336\n",
            "Epoch [38], Loss: 0.1291\n",
            "Epoch [39], Loss: 0.1267\n",
            "Epoch [40], Loss: 0.1221\n",
            "Epoch [41], Loss: 0.1183\n",
            "Epoch [42], Loss: 0.1149\n",
            "Epoch [43], Loss: 0.1138\n",
            "Epoch [44], Loss: 0.1079\n",
            "Epoch [45], Loss: 0.1067\n",
            "Epoch [46], Loss: 0.1018\n",
            "Epoch [47], Loss: 0.0998\n",
            "Epoch [48], Loss: 0.1004\n",
            "Epoch [49], Loss: 0.0948\n",
            "Epoch [50], Loss: 0.0929\n"
          ]
        }
      ]
    },
    {
      "cell_type": "code",
      "source": [
        "plt.plot(loss_change)\n",
        "plt.show()"
      ],
      "metadata": {
        "colab": {
          "base_uri": "https://localhost:8080/",
          "height": 430
        },
        "id": "lgCHtNYP2dI7",
        "outputId": "dfb3ab12-1a91-4125-9ff6-a7b441ff15eb"
      },
      "execution_count": 42,
      "outputs": [
        {
          "output_type": "display_data",
          "data": {
            "text/plain": [
              "<Figure size 640x480 with 1 Axes>"
            ],
            "image/png": "[encoded data removed]"
          },
          "metadata": {}
        }
      ]
    }
  ]
}
