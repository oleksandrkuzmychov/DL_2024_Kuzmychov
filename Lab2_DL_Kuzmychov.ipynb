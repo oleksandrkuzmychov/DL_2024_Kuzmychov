{
  "nbformat": 4,
  "nbformat_minor": 0,
  "metadata": {
    "colab": {
      "provenance": [],
      "authorship_tag": "ABX9TyOd/8WvroEmbYWJlNWooWH6",
      "include_colab_link": true
    },
    "kernelspec": {
      "name": "python3",
      "display_name": "Python 3"
    },
    "language_info": {
      "name": "python"
    }
  },
  "cells": [
    {
      "cell_type": "markdown",
      "metadata": {
        "id": "view-in-github",
        "colab_type": "text"
      },
      "source": [
        "<a href=\"https://colab.research.google.com/github/oleksandrkuzmychov/DL_2024_Kuzmychov/blob/main/Lab2_DL_Kuzmychov.ipynb\" target=\"_parent\"><img src=\"https://colab.research.google.com/assets/colab-badge.svg\" alt=\"Open In Colab\"/></a>"
      ]
    },
    {
      "cell_type": "markdown",
      "source": [
        "# Backpropagation handmade"
      ],
      "metadata": {
        "id": "EAeOl_Rb1jAA"
      }
    },
    {
      "cell_type": "code",
      "execution_count": 1,
      "metadata": {
        "id": "QJErsDtHwLHI"
      },
      "outputs": [],
      "source": [
        "import numpy as np\n",
        "import math\n",
        "import matplotlib.pyplot as plt"
      ]
    },
    {
      "cell_type": "markdown",
      "source": [
        "## **Backpropagation realisation class**"
      ],
      "metadata": {
        "id": "zWNU1nTjXtAD"
      }
    },
    {
      "cell_type": "code",
      "source": [
        "class Parameter:\n",
        "    def __init__(self, value: float, name: str, children=()) -> None:\n",
        "        self._value = value\n",
        "        self._name = name\n",
        "        self._grad = 0.0\n",
        "        self._backward = lambda: None\n",
        "        self._prev = set(children)\n",
        "\n",
        "    def __repr__(self) -> str:\n",
        "        return f\"Parameter {self._name} = {self._value}; dL/d[{self._name}] = {self._grad}\"\n",
        "\n",
        "    def __mul__(self, other: 'Parameter') -> 'Parameter':\n",
        "        result = Parameter(self._value * other._value, f'{self._name} * {other._name}', (self, other))\n",
        "\n",
        "        def _backward():\n",
        "            self._grad += other._value * result._grad\n",
        "            other._grad += self._value * result._grad\n",
        "        result._backward = _backward\n",
        "        return result\n",
        "\n",
        "\n",
        "    def __add__(self, other: 'Parameter') -> 'Parameter':\n",
        "        result = Parameter(self._value + other._value, f'[{self._name} + {other._name}]', (self, other))\n",
        "\n",
        "        def _backward():\n",
        "            self._grad += 1.0 * result._grad\n",
        "            other._grad += 1.0 * result._grad\n",
        "        result._backward = _backward\n",
        "        return result\n",
        "\n",
        "\n",
        "    def sigmoid(self) -> 'Parameter':\n",
        "        # f(x) = 1 / (1 + exp(self._value))\n",
        "        # f'(x) = f(x) * (1 - f(x))\n",
        "        val = 1.0 / (1.0 + math.exp(-self._value))\n",
        "        result = Parameter(val, f\"σ({self._name})\", (self,))\n",
        "\n",
        "        def _backward():\n",
        "            self._grad = result._grad * val * (1 - val)\n",
        "        result._backward = _backward\n",
        "        return result\n",
        "\n",
        "\n",
        "    def backward(self):\n",
        "       topolog = []\n",
        "       visited = set()\n",
        "       def make_topo(i):\n",
        "           if i not in visited:\n",
        "               visited.add(i)\n",
        "               for child in i._prev:\n",
        "                   make_topo(child)\n",
        "               topolog.append(i)\n",
        "       make_topo(self)\n",
        "\n",
        "       self._grad = 1.0\n",
        "       for node in reversed(topolog):\n",
        "           node._backward()\n",
        "\n",
        "\n",
        "    def relu(self) -> 'Parameter':\n",
        "        result = Parameter(np.maximum(0, self._value), f'ReLU({self._name})', (self,))\n",
        "\n",
        "        def _backward():\n",
        "            cond = 1 if self._value > 0 else 0\n",
        "            self._grad += cond*result._grad\n",
        "        result._backward = _backward\n",
        "        return result\n",
        "\n",
        "\n",
        "    def gelu(self) -> 'Parameter':\n",
        "        result = Parameter (self._value*0.5*(1 + np.tanh(np.sqrt(2/np.pi)*(self._value + 0.044715*self._value**3))), f'GeLU({self._name})', (self,))\n",
        "\n",
        "        def _backward():\n",
        "            self._grad += result._grad*0.5*(1 + np.tanh(np.sqrt(2/np.pi)*(self._value + 0.044715*self._value**3))) + 0.5*self._value/(np.cosh(np.sqrt(2/np.pi)*(self._value + 0.044715*self._value**3)))**2 * np.sqrt(2/np.pi)*(1 + 3*0.044715*self._value**2)\n",
        "        result._backward = _backward\n",
        "        return result\n",
        "\n",
        "def sgd(weights: list, lr = 0.01):\n",
        "    for param in weights:\n",
        "        param._value -= param._grad*lr\n",
        "    return weights"
      ],
      "metadata": {
        "id": "sQw3_-tBjaQS"
      },
      "execution_count": 45,
      "outputs": []
    },
    {
      "cell_type": "markdown",
      "source": [
        "## **Test (Class work)**"
      ],
      "metadata": {
        "id": "TQXxkhOT1E87"
      }
    },
    {
      "cell_type": "code",
      "source": [
        "a = Parameter(3.0, 'a')\n",
        "b = Parameter(2.0, 'b')\n",
        "c = Parameter(5.0, 'c')\n",
        "d = Parameter(5.0, 'd')\n",
        "\n",
        "print(a)\n",
        "print(b)\n",
        "print(c)\n",
        "print(d)"
      ],
      "metadata": {
        "id": "1pDxUOg4jeY6",
        "colab": {
          "base_uri": "https://localhost:8080/"
        },
        "outputId": "a1cfc103-5969-4d85-fa24-37e42bb108a8"
      },
      "execution_count": 3,
      "outputs": [
        {
          "output_type": "stream",
          "name": "stdout",
          "text": [
            "Parameter a = 3.0; dL/d[a] = 0.0\n",
            "Parameter b = 2.0; dL/d[b] = 0.0\n",
            "Parameter c = 5.0; dL/d[c] = 0.0\n",
            "Parameter d = 5.0; dL/d[d] = 0.0\n"
          ]
        }
      ]
    },
    {
      "cell_type": "code",
      "source": [
        "u = a * b\n",
        "v = u + c\n",
        "L = v * d\n",
        "\n",
        "u, v, L"
      ],
      "metadata": {
        "id": "kE46YysUjkWy",
        "colab": {
          "base_uri": "https://localhost:8080/"
        },
        "outputId": "0cadef2b-6b91-4471-fbad-37727018e138"
      },
      "execution_count": 4,
      "outputs": [
        {
          "output_type": "execute_result",
          "data": {
            "text/plain": [
              "(Parameter a * b = 6.0; dL/d[a * b] = 0.0,\n",
              " Parameter [a * b + c] = 11.0; dL/d[[a * b + c]] = 0.0,\n",
              " Parameter [a * b + c] * d = 55.0; dL/d[[a * b + c] * d] = 0.0)"
            ]
          },
          "metadata": {},
          "execution_count": 4
        }
      ]
    },
    {
      "cell_type": "code",
      "source": [
        "L._grad = 1.0\n",
        "L._backward()\n",
        "\n",
        "v._name = 'v'\n",
        "u._name = 'u'\n",
        "\n",
        "print(L)\n",
        "print(v)\n",
        "print(d)"
      ],
      "metadata": {
        "id": "bXK1M5nXjmty",
        "colab": {
          "base_uri": "https://localhost:8080/"
        },
        "outputId": "069615f4-5ee1-4f23-ccd3-680735ff8e0a"
      },
      "execution_count": 21,
      "outputs": [
        {
          "output_type": "stream",
          "name": "stdout",
          "text": [
            "Parameter [a * b + c] * d = 55.0; dL/d[[a * b + c] * d] = 1.0\n",
            "Parameter v = 11.0; dL/d[v] = 5.0\n",
            "Parameter d = 5.0; dL/d[d] = 11.0\n"
          ]
        }
      ]
    },
    {
      "cell_type": "code",
      "source": [
        "v._backward()\n",
        "\n",
        "print(u)\n",
        "print(c)"
      ],
      "metadata": {
        "id": "ehMaqKeDj3ID",
        "colab": {
          "base_uri": "https://localhost:8080/"
        },
        "outputId": "6cf6e4e2-867b-4127-81a5-f27a18e1477f"
      },
      "execution_count": 24,
      "outputs": [
        {
          "output_type": "stream",
          "name": "stdout",
          "text": [
            "Parameter u = 6.0; dL/d[u] = 5.0\n",
            "Parameter c = 5.0; dL/d[c] = 5.0\n"
          ]
        }
      ]
    },
    {
      "cell_type": "code",
      "source": [
        "u._backward()\n",
        "\n",
        "print(a)\n",
        "print(b)"
      ],
      "metadata": {
        "id": "V-HGfgFaj9tK",
        "colab": {
          "base_uri": "https://localhost:8080/"
        },
        "outputId": "3009a8bb-09ca-422b-e295-0677abe70280"
      },
      "execution_count": 25,
      "outputs": [
        {
          "output_type": "stream",
          "name": "stdout",
          "text": [
            "Parameter a = 3.0; dL/d[a] = 10.0\n",
            "Parameter b = 2.0; dL/d[b] = 15.0\n"
          ]
        }
      ]
    },
    {
      "cell_type": "code",
      "source": [
        "x = Parameter(4.0, 'x')\n",
        "f = x + x\n",
        "\n",
        "f._grad = 1.0\n",
        "f._backward()\n",
        "\n",
        "print(f)\n",
        "print(x)"
      ],
      "metadata": {
        "id": "edeTW20wkFEa",
        "colab": {
          "base_uri": "https://localhost:8080/"
        },
        "outputId": "826867cb-b901-4d07-9d7b-b48caaaaafd6"
      },
      "execution_count": 26,
      "outputs": [
        {
          "output_type": "stream",
          "name": "stdout",
          "text": [
            "Parameter [x + x] = 8.0; dL/d[[x + x]] = 1.0\n",
            "Parameter x = 4.0; dL/d[x] = 2.0\n"
          ]
        }
      ]
    },
    {
      "cell_type": "code",
      "source": [
        "x1 = Parameter(3.0, 'x1')\n",
        "x2 = Parameter(4.0, 'x2')\n",
        "w1 = Parameter(1.0, 'w1')\n",
        "w2 = Parameter(2.0, 'w2')\n",
        "\n",
        "x1w1 = x1 * w1\n",
        "x2w2 = x2 * w2\n",
        "xw = x1w1 + x2w2\n",
        "\n",
        "print(xw)\n",
        "\n",
        "out = xw.sigmoid()\n",
        "out._grad = 1\n",
        "out._backward()\n",
        "\n",
        "print(out)\n",
        "print(xw)"
      ],
      "metadata": {
        "id": "P7cDoV67kM8K",
        "colab": {
          "base_uri": "https://localhost:8080/"
        },
        "outputId": "654b1cec-c947-4459-f240-c2044250136c"
      },
      "execution_count": 27,
      "outputs": [
        {
          "output_type": "stream",
          "name": "stdout",
          "text": [
            "Parameter [x1 * w1 + x2 * w2] = 11.0; dL/d[[x1 * w1 + x2 * w2]] = 0.0\n",
            "Parameter σ([x1 * w1 + x2 * w2]) = 0.999983298578152; dL/d[σ([x1 * w1 + x2 * w2])] = 1\n",
            "Parameter [x1 * w1 + x2 * w2] = 11.0; dL/d[[x1 * w1 + x2 * w2]] = 1.670114291046157e-05\n"
          ]
        }
      ]
    },
    {
      "cell_type": "code",
      "source": [
        "xw._backward()\n",
        "\n",
        "print(x1w1)\n",
        "print(x2w2)"
      ],
      "metadata": {
        "id": "KvkAkOn9kWUB",
        "colab": {
          "base_uri": "https://localhost:8080/"
        },
        "outputId": "32612044-6475-496f-dde6-dd76b3e4e99f"
      },
      "execution_count": 28,
      "outputs": [
        {
          "output_type": "stream",
          "name": "stdout",
          "text": [
            "Parameter x1 * w1 = 3.0; dL/d[x1 * w1] = 1.670114291046157e-05\n",
            "Parameter x2 * w2 = 8.0; dL/d[x2 * w2] = 1.670114291046157e-05\n"
          ]
        }
      ]
    },
    {
      "cell_type": "code",
      "source": [
        "x1w1._backward()\n",
        "x2w2._backward()\n",
        "\n",
        "print(x1)\n",
        "print(w1)\n",
        "print(x2)\n",
        "print(w2)"
      ],
      "metadata": {
        "id": "iOqhvNQQkYyZ",
        "colab": {
          "base_uri": "https://localhost:8080/"
        },
        "outputId": "11dbd00d-c564-4b1e-a84a-ffc1161c23f4"
      },
      "execution_count": 29,
      "outputs": [
        {
          "output_type": "stream",
          "name": "stdout",
          "text": [
            "Parameter x1 = 3.0; dL/d[x1] = 1.670114291046157e-05\n",
            "Parameter w1 = 1.0; dL/d[w1] = 5.010342873138471e-05\n",
            "Parameter x2 = 4.0; dL/d[x2] = 3.340228582092314e-05\n",
            "Parameter w2 = 2.0; dL/d[w2] = 6.680457164184628e-05\n"
          ]
        }
      ]
    },
    {
      "cell_type": "code",
      "source": [
        "o = Parameter(2.0, 'o')\n",
        "k = Parameter(4.0, 'k')\n",
        "ko = k*o\n",
        "m = Parameter(5.0, 'm')\n",
        "res = ko + m\n",
        "print(res)\n",
        "\n",
        "out = res.relu()\n",
        "out._grad = 1.0\n",
        "out.backward()\n",
        "\n",
        "print(out)\n",
        "print(res)\n",
        "print(m)\n",
        "print(ko)\n",
        "print(k)\n",
        "print(o)"
      ],
      "metadata": {
        "colab": {
          "base_uri": "https://localhost:8080/"
        },
        "id": "LpzvvoSTgTsQ",
        "outputId": "c569dcc8-6717-464f-d3c7-0569b67cf153"
      },
      "execution_count": 36,
      "outputs": [
        {
          "output_type": "stream",
          "name": "stdout",
          "text": [
            "Parameter [k * o + m] = 13.0; dL/d[[k * o + m]] = 0.0\n",
            "Parameter ReLU([k * o + m]) = 13.0; dL/d[ReLU([k * o + m])] = 1.0\n",
            "Parameter [k * o + m] = 13.0; dL/d[[k * o + m]] = 1.0\n",
            "Parameter m = 5.0; dL/d[m] = 1.0\n",
            "Parameter k * o = 8.0; dL/d[k * o] = 1.0\n",
            "Parameter k = 4.0; dL/d[k] = 2.0\n",
            "Parameter o = 2.0; dL/d[o] = 4.0\n"
          ]
        }
      ]
    },
    {
      "cell_type": "code",
      "source": [
        "o._grad = 0.0\n",
        "k._grad = 0.0\n",
        "ko._grad = 0.0\n",
        "m._grad = 0.0"
      ],
      "metadata": {
        "id": "DBlZxAxLj98H"
      },
      "execution_count": 38,
      "outputs": []
    },
    {
      "cell_type": "code",
      "source": [
        "o = Parameter(2.0, 'o')\n",
        "k = Parameter(4.0, 'k')\n",
        "ko = k*o\n",
        "m = Parameter(5.0, 'm')\n",
        "res = ko + m\n",
        "print(res)\n",
        "\n",
        "out = res.gelu()\n",
        "out._grad = 1.0\n",
        "out.backward()\n",
        "\n",
        "print(out)\n",
        "print(res)\n",
        "print(m)\n",
        "print(ko)\n",
        "print(k)\n",
        "print(o)"
      ],
      "metadata": {
        "colab": {
          "base_uri": "https://localhost:8080/"
        },
        "id": "Jl6oaCk7iR8T",
        "outputId": "bc8894a6-de3c-4a3b-9dfd-f5b978a17528"
      },
      "execution_count": 39,
      "outputs": [
        {
          "output_type": "stream",
          "name": "stdout",
          "text": [
            "Parameter [k * o + m] = 13.0; dL/d[[k * o + m]] = 0.0\n",
            "Parameter GeLU([k * o + m]) = 13.0; dL/d[GeLU([k * o + m])] = 1.0\n",
            "Parameter [k * o + m] = 13.0; dL/d[[k * o + m]] = 1.0\n",
            "Parameter m = 5.0; dL/d[m] = 1.0\n",
            "Parameter k * o = 8.0; dL/d[k * o] = 1.0\n",
            "Parameter k = 4.0; dL/d[k] = 2.0\n",
            "Parameter o = 2.0; dL/d[o] = 4.0\n"
          ]
        }
      ]
    },
    {
      "cell_type": "markdown",
      "source": [
        "## **Stochastic Gradient Descent Test (Minimization of the result)**"
      ],
      "metadata": {
        "id": "Hic8OW-6fcso"
      }
    },
    {
      "cell_type": "code",
      "source": [
        "x1 = Parameter(8.0, 'x1')\n",
        "x2 = Parameter(5.0, 'x2')\n",
        "w1 = Parameter(3.0, 'w1')\n",
        "w2 = Parameter(1.0, 'w2')\n",
        "\n",
        "x1w1 = x1*w1\n",
        "x2w2 = x2*w2\n",
        "xw = x1w1.relu() + x2w2.gelu()\n",
        "print(xw, \"\\n\")\n",
        "\n",
        "n_epoch = 10\n",
        "for n in range(n_epoch):\n",
        "    x1w1 = x1*w1\n",
        "    x2w2 = x2*w2\n",
        "    xw = x1w1.relu() + x2w2.gelu()\n",
        "    print(f\"Epoch {n}: {xw}\")\n",
        "    print(f\"Weights: {w1}, {w2}\\n\" )\n",
        "    xw.backward()\n",
        "    Weights = sgd([w1, w2])\n",
        "    w1 = Weights[0]\n",
        "    w2 = Weights[1]"
      ],
      "metadata": {
        "colab": {
          "base_uri": "https://localhost:8080/"
        },
        "id": "TbWscVbdmnw_",
        "outputId": "527227f3-906e-4d7c-aaf4-8be3b485523e"
      },
      "execution_count": 55,
      "outputs": [
        {
          "output_type": "stream",
          "name": "stdout",
          "text": [
            "Parameter [ReLU(x1 * w1) + GeLU(x2 * w2)] = 28.99999977082038; dL/d[[ReLU(x1 * w1) + GeLU(x2 * w2)]] = 0.0 \n",
            "\n",
            "Epoch 0: Parameter [ReLU(x1 * w1) + GeLU(x2 * w2)] = 28.99999977082038; dL/d[[ReLU(x1 * w1) + GeLU(x2 * w2)]] = 0.0\n",
            "Weights: Parameter w1 = 3.0; dL/d[w1] = 0.0, Parameter w2 = 1.0; dL/d[w2] = 0.0\n",
            "\n",
            "Epoch 1: Parameter [ReLU(x1 * w1) + GeLU(x2 * w2)] = 28.10999845560614; dL/d[[ReLU(x1 * w1) + GeLU(x2 * w2)]] = 0.0\n",
            "Weights: Parameter w1 = 2.92; dL/d[w1] = 8.0, Parameter w2 = 0.9499999226819006; dL/d[w2] = 5.000007731809938\n",
            "\n",
            "Epoch 2: Parameter [ReLU(x1 * w1) + GeLU(x2 * w2)] = 26.32997728555525; dL/d[[ReLU(x1 * w1) + GeLU(x2 * w2)]] = 0.0\n",
            "Weights: Parameter w1 = 2.76; dL/d[w1] = 16.0, Parameter w2 = 0.8499994855723793; dL/d[w2] = 10.000043710952136\n",
            "\n",
            "Epoch 3: Parameter [ReLU(x1 * w1) + GeLU(x2 * w2)] = 23.65935264848688; dL/d[[ReLU(x1 * w1) + GeLU(x2 * w2)]] = 0.0\n",
            "Weights: Parameter w1 = 2.5199999999999996; dL/d[w1] = 24.0, Parameter w2 = 0.6999937842877335; dL/d[w2] = 15.000570128464576\n",
            "\n",
            "Epoch 4: Parameter [ReLU(x1 * w1) + GeLU(x2 * w2)] = 20.084225155024054; dL/d[[ReLU(x1 * w1) + GeLU(x2 * w2)]] = 0.0\n",
            "Weights: Parameter w1 = 2.1999999999999997; dL/d[w1] = 32.0, Parameter w2 = 0.4998669375292054; dL/d[w2] = 20.01268467585281\n",
            "\n",
            "Epoch 5: Parameter [ReLU(x1 * w1) + GeLU(x2 * w2)] = 15.505595990623673; dL/d[[ReLU(x1 * w1) + GeLU(x2 * w2)]] = 0.0\n",
            "Weights: Parameter w1 = 1.7999999999999998; dL/d[w1] = 40.0, Parameter w2 = 0.24783997452444473; dL/d[w2] = 25.20269630047607\n",
            "\n",
            "Epoch 6: Parameter [ReLU(x1 * w1) + GeLU(x2 * w2)] = 10.445015304255355; dL/d[[ReLU(x1 * w1) + GeLU(x2 * w2)]] = 0.0\n",
            "Weights: Parameter w1 = 1.3199999999999998; dL/d[w1] = 48.0, Parameter w2 = -0.060266162012299784; dL/d[w2] = 30.81061365367445\n",
            "\n",
            "Epoch 7: Parameter [ReLU(x1 * w1) + GeLU(x2 * w2)] = 6.0262744425013235; dL/d[[ReLU(x1 * w1) + GeLU(x2 * w2)]] = 0.0\n",
            "Weights: Parameter w1 = 0.7599999999999998; dL/d[w1] = 56.0, Parameter w2 = -0.38170909451038243; dL/d[w2] = 32.144293249808264\n",
            "\n",
            "Epoch 8: Parameter [ReLU(x1 * w1) + GeLU(x2 * w2)] = 0.9593636204273563; dL/d[[ReLU(x1 * w1) + GeLU(x2 * w2)]] = 0.0\n",
            "Weights: Parameter w1 = 0.11999999999999977; dL/d[w1] = 64.0, Parameter w2 = -0.6983578835897164; dL/d[w2] = 31.664878907933392\n",
            "\n",
            "Epoch 9: Parameter [ReLU(x1 * w1) + GeLU(x2 * w2)] = -1.3787792944024857e-07; dL/d[[ReLU(x1 * w1) + GeLU(x2 * w2)]] = 0.0\n",
            "Weights: Parameter w1 = -0.6000000000000002; dL/d[w1] = 72.0, Parameter w2 = -1.0148819862696017; dL/d[w2] = 31.652410267988532\n",
            "\n"
          ]
        }
      ]
    }
  ]
}